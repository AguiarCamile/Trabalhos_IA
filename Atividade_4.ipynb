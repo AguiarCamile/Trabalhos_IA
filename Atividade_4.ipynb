{
  "nbformat": 4,
  "nbformat_minor": 0,
  "metadata": {
    "colab": {
      "provenance": [],
      "authorship_tag": "ABX9TyP+Veux1bMa90NWjSDqFWCm",
      "include_colab_link": true
    },
    "kernelspec": {
      "name": "python3",
      "display_name": "Python 3"
    },
    "language_info": {
      "name": "python"
    }
  },
  "cells": [
    {
      "cell_type": "markdown",
      "metadata": {
        "id": "view-in-github",
        "colab_type": "text"
      },
      "source": [
        "<a href=\"https://colab.research.google.com/github/AguiarCamile/Trabalhos_IA/blob/main/Atividade_4.ipynb\" target=\"_parent\"><img src=\"https://colab.research.google.com/assets/colab-badge.svg\" alt=\"Open In Colab\"/></a>"
      ]
    },
    {
      "cell_type": "markdown",
      "source": [
        "# ATIVIDADE 4: Programas em Python for p-value, confidence intervals e correlation"
      ],
      "metadata": {
        "id": "MffVLBciZIvM"
      }
    },
    {
      "cell_type": "markdown",
      "source": [
        "Comandos github"
      ],
      "metadata": {
        "id": "eEVWC7fVSsAa"
      }
    },
    {
      "cell_type": "code",
      "source": [
        "!git clone https://github.com/AguiarCamile/Trabalhos_IA.git\n",
        "%cd Trabalhos_IA"
      ],
      "metadata": {
        "colab": {
          "base_uri": "https://localhost:8080/"
        },
        "id": "-vbxoCgsSbxC",
        "outputId": "f494df9d-1fe1-40b9-d428-780a63a90641"
      },
      "execution_count": 15,
      "outputs": [
        {
          "output_type": "stream",
          "name": "stdout",
          "text": [
            "Cloning into 'Trabalhos_IA'...\n",
            "remote: Enumerating objects: 12, done.\u001b[K\n",
            "remote: Counting objects: 100% (12/12), done.\u001b[K\n",
            "remote: Compressing objects: 100% (10/10), done.\u001b[K\n",
            "remote: Total 12 (delta 2), reused 0 (delta 0), pack-reused 0 (from 0)\u001b[K\n",
            "Receiving objects: 100% (12/12), 1.36 MiB | 16.75 MiB/s, done.\n",
            "Resolving deltas: 100% (2/2), done.\n",
            "/content/Trabalhos_IA/Trabalhos_IA\n"
          ]
        }
      ]
    },
    {
      "cell_type": "code",
      "source": [
        "!ls"
      ],
      "metadata": {
        "colab": {
          "base_uri": "https://localhost:8080/"
        },
        "id": "GzqqVyU0Zx1d",
        "outputId": "c1d97d19-8930-40b3-d2fa-e7227c7500d0"
      },
      "execution_count": 29,
      "outputs": [
        {
          "output_type": "stream",
          "name": "stdout",
          "text": [
            "Atividade_2.ipynb\n",
            "Atividade_3_Sample_distribution_and_sampling_distribution,_TLC_and_p_value.ipynb\n",
            "README\n"
          ]
        }
      ]
    },
    {
      "cell_type": "code",
      "source": [
        "!mv /content/Atividade_4.ipynb /content/Trabalhos_IA/"
      ],
      "metadata": {
        "colab": {
          "base_uri": "https://localhost:8080/"
        },
        "id": "ruqMvAGwZk4l",
        "outputId": "117f5a92-e6ce-4836-d4f1-4bdd51870f43"
      },
      "execution_count": 28,
      "outputs": [
        {
          "output_type": "stream",
          "name": "stdout",
          "text": [
            "mv: cannot stat '/content/Atividade_4.ipynb': No such file or directory\n"
          ]
        }
      ]
    },
    {
      "cell_type": "code",
      "source": [
        "!git config --global user.name \"Camile Aguiar\"\n",
        "!git config --global user.email \"camilemaria55@email.com\"\n"
      ],
      "metadata": {
        "id": "NchUhA8WXVVn"
      },
      "execution_count": 19,
      "outputs": []
    },
    {
      "cell_type": "code",
      "source": [
        "!git pull origin main"
      ],
      "metadata": {
        "colab": {
          "base_uri": "https://localhost:8080/"
        },
        "id": "LlFV1sv2YX2a",
        "outputId": "f7a99841-d05a-4304-9bd9-2ba233ed4bea"
      },
      "execution_count": 25,
      "outputs": [
        {
          "output_type": "stream",
          "name": "stdout",
          "text": [
            "From https://github.com/AguiarCamile/Trabalhos_IA\n",
            " * branch            main       -> FETCH_HEAD\n",
            "Already up to date.\n"
          ]
        }
      ]
    },
    {
      "cell_type": "code",
      "source": [
        "!git add Atividade_4.ipynb\n",
        "!git commit -m \"Add comandos da atividade e resposta parcial da parte E\"\n",
        "!git push https://@github.com/AguiarCamile/Trabalhos_IA.git\n"
      ],
      "metadata": {
        "colab": {
          "base_uri": "https://localhost:8080/"
        },
        "id": "C7-dvTz9SrJK",
        "outputId": "6dda1757-3984-40cf-bc13-f793f2ed0639"
      },
      "execution_count": 27,
      "outputs": [
        {
          "output_type": "stream",
          "name": "stdout",
          "text": [
            "fatal: pathspec 'Atividade_4.ipynb' did not match any files\n",
            "On branch main\n",
            "Your branch is up to date with 'origin/main'.\n",
            "\n",
            "nothing to commit, working tree clean\n",
            "Everything up-to-date\n"
          ]
        }
      ]
    },
    {
      "cell_type": "markdown",
      "source": [
        "Bibliotecas"
      ],
      "metadata": {
        "id": "4v-Kgv2ImXHw"
      }
    },
    {
      "cell_type": "code",
      "source": [
        "from scipy.stats import t\n",
        "from scipy.stats import norm\n",
        "import numpy as np\n",
        "import matplotlib.pyplot as plt"
      ],
      "metadata": {
        "id": "cVg7UsGZmWS0"
      },
      "execution_count": 21,
      "outputs": []
    },
    {
      "cell_type": "markdown",
      "source": [
        "A - Correlação"
      ],
      "metadata": {
        "id": "euWCBwRIZQTJ"
      }
    },
    {
      "cell_type": "markdown",
      "source": [
        "Faça plotes similares as duas figuras mostradas nos dois próximos slides.\n",
        "\n",
        "Cada uma deve ter 9 pontos. A segunda deve ter seus dados gerados aleatoriamente com uma distribuição uniforme no mesmo intervalo da primeira.\n",
        "\n",
        "Use a função linregress para achar um reta que represente os dados e também para calcular o p-value. Interprete os resultados. Pesquise sobre a função linregress.\n",
        "\n",
        "Calcule a covariância e interprete os resultados.\n"
      ],
      "metadata": {
        "id": "T5RHvE0iZSTF"
      }
    },
    {
      "cell_type": "code",
      "execution_count": null,
      "metadata": {
        "id": "bZR4kJHnZAw0"
      },
      "outputs": [],
      "source": []
    },
    {
      "cell_type": "markdown",
      "source": [
        "B: Estimando um Intervalo de Confiança para a Média"
      ],
      "metadata": {
        "id": "PCjOGH18ZXvH"
      }
    },
    {
      "cell_type": "markdown",
      "source": [
        "Obtenha um conjunto de dados amostrais (por exemplo, pesos de indivíduos, notas de testes, etc.).\n",
        "\n",
        "Calcule o intervalo de confiança de 95% para a média da população seguindo os passos:\n",
        "Calcular a média e o desvio padrão da amostra.\n",
        "Usar a fórmula para intervalo de confiança ou a biblioteca scipy.stats.\n",
        "Desafio: Repetir o processo para diferentes níveis de confiança (por exemplo, 90%, 99%) e comparar os resultados.\n",
        "\n",
        "Visualizar os intervalos de confiança em um gráfico usando matplotlib para mostrar a variabilidade.\n"
      ],
      "metadata": {
        "id": "0i2rqDBOZYZe"
      }
    },
    {
      "cell_type": "code",
      "source": [],
      "metadata": {
        "id": "E9fdflJMZcEc"
      },
      "execution_count": null,
      "outputs": []
    },
    {
      "cell_type": "markdown",
      "source": [
        "C: p-value em um Teste de Hipótese"
      ],
      "metadata": {
        "id": "Xz6M2pwQZcZy"
      }
    },
    {
      "cell_type": "markdown",
      "source": [
        "Forneça dois conjuntos de dados: um para um grupo de controle e outro para um grupo de teste.\n",
        "Formule a hipótese nula.\n",
        "Realizar um teste t de duas amostras usando scipy.stats.ttest_ind.\n",
        "\n",
        "Interpretar o p-value resultante e decidir se rejeitam a hipótese nula em um nível de significância dado (por exemplo, 0,05)."
      ],
      "metadata": {
        "id": "w3DcNMeDZcsA"
      }
    },
    {
      "cell_type": "code",
      "source": [],
      "metadata": {
        "id": "734hEpRyZdO5"
      },
      "execution_count": null,
      "outputs": []
    },
    {
      "cell_type": "markdown",
      "source": [
        "D: significance_level"
      ],
      "metadata": {
        "id": "homk7wOCZmaW"
      }
    },
    {
      "cell_type": "markdown",
      "source": [
        "Faça slides explicando o código abaixo e interpretando os resultados\n",
        "\n",
        "https://colab.research.google.com/drive/13V7IT7XbnNVf4VVehObHO6NZUxaqdl_f?usp=sharing\n",
        "\n",
        "Teste com dois valores para significance_level Pelo menos quatro slides com a explicação e interpretação."
      ],
      "metadata": {
        "id": "AIMhpRegfa-Z"
      }
    },
    {
      "cell_type": "code",
      "source": [],
      "metadata": {
        "id": "-Q0K8xMmfymX"
      },
      "execution_count": null,
      "outputs": []
    },
    {
      "cell_type": "markdown",
      "source": [
        "A explicação está no slide: #link"
      ],
      "metadata": {
        "id": "Ja2DXbygQBgg"
      }
    },
    {
      "cell_type": "markdown",
      "source": [
        "E: reproduzindo slides em código"
      ],
      "metadata": {
        "id": "g5Qq5BHifzWw"
      }
    },
    {
      "cell_type": "markdown",
      "source": [
        "Reproduza em Python o conteúdo dos slides de 24 a 46."
      ],
      "metadata": {
        "id": "qUebGTylfzGA"
      }
    },
    {
      "cell_type": "markdown",
      "source": [
        "Population mean"
      ],
      "metadata": {
        "id": "P9tO4NwhmuXK"
      }
    },
    {
      "cell_type": "code",
      "source": [
        "# Criando uma populacao\n",
        "np.random.seed(42)\n",
        "populacao = np.random.normal(loc=10, scale=2, size=100000)  # média=10, desvio=2\n",
        "\n",
        "# Sorteando uma amostra aleatória\n",
        "amostra = np.random.choice(populacao, size=50, replace=False)\n",
        "\n",
        "# média e desvio padrão da amostra\n",
        "media_amostra = np.mean(amostra)\n",
        "desvio_amostra = np.std(amostra, ddof=1)  # ddof=1 → desvio padrão amostral\n",
        "\n",
        "# erro padrão da média\n",
        "erro_padrao = desvio_amostra / np.sqrt(len(amostra))"
      ],
      "metadata": {
        "id": "1UiQdqPTmxzo"
      },
      "execution_count": null,
      "outputs": []
    },
    {
      "cell_type": "code",
      "source": [
        "confidence = 0.975\n",
        "degrees_of_freedom = 49\n",
        "\n",
        "t_critical = t.ppf(confidence,degrees_of_freedom)\n",
        "print(t_critical)"
      ],
      "metadata": {
        "colab": {
          "base_uri": "https://localhost:8080/"
        },
        "id": "GzlrFuaff_BZ",
        "outputId": "88f37e4a-1946-4729-f79b-e2b3552c2e99"
      },
      "execution_count": null,
      "outputs": [
        {
          "output_type": "stream",
          "name": "stdout",
          "text": [
            "2.0095752371292397\n"
          ]
        }
      ]
    },
    {
      "cell_type": "code",
      "source": [
        "margem_erro = t_critical * erro_padrao\n",
        "limite_inferior = media_amostra - margem_erro\n",
        "limite_superior = media_amostra + margem_erro"
      ],
      "metadata": {
        "id": "IujdnDPqzXvr"
      },
      "execution_count": null,
      "outputs": []
    },
    {
      "cell_type": "code",
      "source": [
        "print(margem_erro)\n",
        "print(f\"Média da amostra: {media_amostra:.2f} cm\")\n",
        "print(f\"Intervalo de confiança de 95%: [{limite_inferior:.2f}, {limite_superior:.2f}] cm\")"
      ],
      "metadata": {
        "colab": {
          "base_uri": "https://localhost:8080/"
        },
        "id": "H3f12qMgzoRa",
        "outputId": "a8427056-6d87-4422-c0c6-7f43ffb96ce4"
      },
      "execution_count": null,
      "outputs": [
        {
          "output_type": "stream",
          "name": "stdout",
          "text": [
            "0.5939815674011028\n",
            "Média da amostra: 10.12 cm\n",
            "Intervalo de confiança de 95%: [9.53, 10.71] cm\n"
          ]
        }
      ]
    },
    {
      "cell_type": "markdown",
      "source": [
        "Population proportion"
      ],
      "metadata": {
        "id": "AsbuGUVJm3Uv"
      }
    },
    {
      "cell_type": "code",
      "source": [
        "# criar a nova população e ajeitar o código"
      ],
      "metadata": {
        "id": "_3C8SfaTm-FX"
      },
      "execution_count": null,
      "outputs": []
    },
    {
      "cell_type": "code",
      "source": [
        "z_critical = norm.ppf(confidence)\n",
        "print(z_critical)"
      ],
      "metadata": {
        "colab": {
          "base_uri": "https://localhost:8080/"
        },
        "id": "3Zk82pnLmUgG",
        "outputId": "94db854a-4bbc-4dad-a51e-6f9b992400f9"
      },
      "execution_count": null,
      "outputs": [
        {
          "output_type": "stream",
          "name": "stdout",
          "text": [
            "1.959963984540054\n"
          ]
        }
      ]
    },
    {
      "cell_type": "code",
      "source": [
        "margem_erro = z_critical * erro_padrao\n",
        "limite_inferior = media_amostra - margem_erro\n",
        "limite_superior = media_amostra + margem_erro"
      ],
      "metadata": {
        "id": "rEbMk8jTx3mE"
      },
      "execution_count": null,
      "outputs": []
    },
    {
      "cell_type": "code",
      "source": [
        "print(margem_erro)\n",
        "print(f\"Média da amostra: {media_amostra:.2f} cm\")\n",
        "print(f\"Intervalo de confiança de 95%: [{limite_inferior:.2f}, {limite_superior:.2f}] cm\")"
      ],
      "metadata": {
        "colab": {
          "base_uri": "https://localhost:8080/"
        },
        "id": "BumCBlI90co1",
        "outputId": "d8aa32c2-8c88-4e56-8c3b-9e4e8e8963f6"
      },
      "execution_count": null,
      "outputs": [
        {
          "output_type": "stream",
          "name": "stdout",
          "text": [
            "0.5793176876770706\n",
            "Média da amostra: 10.12 cm\n",
            "Intervalo de confiança de 95%: [9.54, 10.70] cm\n"
          ]
        }
      ]
    }
  ]
}